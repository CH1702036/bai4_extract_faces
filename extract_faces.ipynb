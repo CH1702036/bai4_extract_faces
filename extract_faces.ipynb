{
 "cells": [
  {
   "cell_type": "code",
   "execution_count": 19,
   "metadata": {
    "scrolled": true
   },
   "outputs": [
    {
     "name": "stdout",
     "output_type": "stream",
     "text": [
      "detecting C:\\Users\\hung\\image\\1.jpg\n",
      "detecting C:\\Users\\hung\\image\\2.jpg\n",
      "detecting C:\\Users\\hung\\image\\3.jpg\n",
      "detecting C:\\Users\\hung\\image\\4.jpg\n",
      "detecting C:\\Users\\hung\\image\\5.jpg\n",
      "detecting C:\\Users\\hung\\image\\6.jpg\n",
      "detecting C:\\Users\\hung\\image\\7.jpg\n"
     ]
    }
   ],
   "source": [
    "from PIL import Image\n",
    "import os.path, sys\n",
    "import cv2\n",
    "from mtcnn.mtcnn import MTCNN\n",
    "detector = MTCNN()\n",
    "\n",
    "path = \"C:\\\\Users\\\\hung\\\\image\"\n",
    "dirs = os.listdir(path)\n",
    "\n",
    "def crop():\n",
    "    i = 1\n",
    "    for item in dirs:\n",
    "        fullpath = os.path.join(path,item)        \n",
    "        if os.path.isfile(fullpath):\n",
    "            image = cv2.imread(fullpath)\n",
    "        print(\"detecting \" + fullpath)\n",
    "        result = detector.detect_faces(image)\n",
    "        for face in result:\n",
    "            bounding_box = face['box']\n",
    "            path2 = \"C:\\\\Users\\\\hung\\\\face\"\n",
    "            crop_img = image[bounding_box[1]:bounding_box[1]+bounding_box[3], bounding_box[0]:bounding_box[0]+bounding_box[2]]\n",
    "            cv2.imwrite(path2 + \"/face\" + str(i) + \".jpg\", crop_img)\n",
    "            i=i+1\n",
    "\n",
    "crop()"
   ]
  },
  {
   "cell_type": "code",
   "execution_count": null,
   "metadata": {},
   "outputs": [],
   "source": []
  },
  {
   "cell_type": "code",
   "execution_count": null,
   "metadata": {},
   "outputs": [],
   "source": []
  }
 ],
 "metadata": {
  "kernelspec": {
   "display_name": "Python 3",
   "language": "python",
   "name": "python3"
  },
  "language_info": {
   "codemirror_mode": {
    "name": "ipython",
    "version": 3
   },
   "file_extension": ".py",
   "mimetype": "text/x-python",
   "name": "python",
   "nbconvert_exporter": "python",
   "pygments_lexer": "ipython3",
   "version": "3.6.8"
  }
 },
 "nbformat": 4,
 "nbformat_minor": 2
}
